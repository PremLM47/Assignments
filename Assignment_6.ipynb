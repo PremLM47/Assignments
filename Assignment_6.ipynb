{
 "cells": [
  {
   "cell_type": "markdown",
   "id": "1947c0a6",
   "metadata": {},
   "source": [
    "#### Q.1. What are keywords in python? Using the keyword library, print all the python keywords.\n",
    "\n",
    "Keywords in Python are reserved words that have some specific function and are used to define the syntax and structure of the language. These words cannot be used as identifiers (variable names, function names, class names, etc.) because they are a part of the Python language's syntax"
   ]
  },
  {
   "cell_type": "code",
   "execution_count": 1,
   "id": "54914ec5",
   "metadata": {},
   "outputs": [
    {
     "name": "stdout",
     "output_type": "stream",
     "text": [
      "['False', 'None', 'True', '__peg_parser__', 'and', 'as', 'assert', 'async', 'await', 'break', 'class', 'continue', 'def', 'del', 'elif', 'else', 'except', 'finally', 'for', 'from', 'global', 'if', 'import', 'in', 'is', 'lambda', 'nonlocal', 'not', 'or', 'pass', 'raise', 'return', 'try', 'while', 'with', 'yield']\n"
     ]
    }
   ],
   "source": [
    "import keyword\n",
    "\n",
    "print(keyword.kwlist)"
   ]
  },
  {
   "cell_type": "markdown",
   "id": "585ae894",
   "metadata": {},
   "source": [
    "#### Q.2. What are the rules to create variables in python?\n",
    "\n",
    "Following are the rules for creating a variable name in Python:  \n",
    "1)\tWe cannot start a variable name by a number.  \n",
    "\n",
    "2)\tWe can use a combination of (0-9), (a-z), (A-Z) and the symbol (_)  \n",
    "\n",
    "3)\tNo other special character such as @, $, #, & etc can be used expect for underscore(_)    \n",
    "\n",
    "4) Keywords cannot be used as a variable name.\n",
    "\n",
    "Eg.   \n",
    "number  \n",
    "lower_value  \n",
    "var_1"
   ]
  },
  {
   "cell_type": "markdown",
   "id": "aeee8089",
   "metadata": {},
   "source": [
    "#### Q.3. What are the standards and conventions followed for the nomenclature of variables in python to improve code readability and maintainability?\n",
    "\n",
    "Some of the standards and conventions followed for the nomenclature of variables in python are below:  \n",
    "\n",
    "1) Variable names should be in lowercase letters, and words within the variable name should be separated by underscores.\n",
    "\n",
    "Eg. \n",
    "\n",
    "first_name\n",
    "\n",
    "2) Choose variable names that are descriptive and convey the purpose or meaning of the variable.   \n",
    "\n",
    "Eg.   \n",
    "username  \n",
    "count  \n",
    "\n",
    "3) For using loops we can use single letter variables such as (i,j,k)    \n",
    "\n",
    "4) Use uppercase letters for constants, and if needed, separate words with underscores. Constants are typically used for values that do not change throughout the program.    \n",
    "\n",
    "Eg.  \n",
    "MAX  \n",
    "PI  \n",
    "\n",
    "5) Class names should follow the CapWords or CamelCase convention, where each word starts with an uppercase letter.  \n",
    "\n",
    "Eg.  \n",
    "\n",
    "SavingsAccount  \n",
    "\n",
    "6) Module names should be in lowercase letters, and you should avoid using underscores in module names unless necessary.  \n"
   ]
  },
  {
   "cell_type": "markdown",
   "id": "94604baa",
   "metadata": {},
   "source": [
    "#### Q.4. What will happen if a keyword is used as a variable name?\n",
    "\n",
    "Keywords are reserved words in the Python language and they certain functions associated with them. We cannot use them as   identifiers (variable names, function names, class names, etc.) because they are part of the language's syntax and are reserved  for specific tasks.  \n",
    "In Python if we use a keyword as a variable name we will encounter a syntax error when we try to run the code.  \n",
    "\n",
    "Some of the keywords used in python are:\n",
    "and, True, False, class, def etc."
   ]
  },
  {
   "cell_type": "markdown",
   "id": "16407253",
   "metadata": {},
   "source": [
    "#### Q.5. For what purpose def keyword is used?\n",
    "\n",
    "The def keyword in Python is used to define a function.  \n",
    "A function is a block of code that performs a specific operation and which can be reused again.\n",
    "\n",
    "The syntax for creating a function using def is :  \n",
    "\n",
    "def function_name():  \n",
    "&emsp;operation to perform  \n",
    "    \n",
    "Eg.\n",
    "\n",
    "def add(a,b):  \n",
    "&emsp;c=a+b  \n",
    "&emsp;return c  \n",
    "    \n",
    "When the add function is called the above code gets executed."
   ]
  },
  {
   "cell_type": "markdown",
   "id": "3c14316f",
   "metadata": {},
   "source": [
    "#### Q.6. What is the operation of this special character ‘\\’?\n",
    "\n",
    "The backslash character (\\) is used as an escape character. It indicated that the character immediately following it should be treated in a special way or as a special character. The backslash is used to escape or modify the interpretation of certain characters in strings and characters.\n",
    "\n",
    "Eg. of using the (\\)\n",
    "\n",
    "1) Excape Sequences:\n",
    "We use (\\) for giving escape sequences in the string related operations such as:  \n",
    "\\n --> newline  \n",
    "\\t --> tab\n",
    "\n",
    "2) Continuation of statements:\n",
    "The backslash can be used to split a single statement across multiple lines to improve code readability.  \n",
    "We can break long strings or lists with the help of (\\) for easy and better understanding."
   ]
  },
  {
   "cell_type": "code",
   "execution_count": 2,
   "id": "d04e22f6",
   "metadata": {},
   "outputs": [
    {
     "data": {
      "text/plain": [
       "8"
      ]
     },
     "execution_count": 2,
     "metadata": {},
     "output_type": "execute_result"
    }
   ],
   "source": [
    "total = 5 + \\\n",
    "        3\n",
    "total"
   ]
  },
  {
   "cell_type": "markdown",
   "id": "e0bbe0e2",
   "metadata": {},
   "source": [
    "#### Q.7. Give an example of the following conditions:  \n",
    "(i) Homogeneous list  \n",
    "(ii) Heterogeneous set  \n",
    "(iii) Homogeneous tuple  \n",
    "\n",
    "i) Homogeneous List:    \n",
    "A list which contains all the elements of the same data type.\n",
    "\n",
    "numbers = [1,2,3,4,5]      \n",
    "Here the numbers list have all the elements of the type 'int'    \n",
    "\n",
    "ii) Heterogeneous Set  \n",
    "A set which contains elements of different data types such as a combination of int, float, string etc.  \n",
    "\n",
    "combo={1, 'Hello World', 5.9}  \n",
    "Here the set contains elements of int, string and float data type\n",
    "\n",
    "iii) Homogeneous tuple  \n",
    "A tuple which contains all the elements of the same data type.  \n",
    "\n",
    "fruits = ('apple','banana','watermelon')  \n",
    "Here the tuple fruits have all the elements of the type 'str'    "
   ]
  },
  {
   "cell_type": "markdown",
   "id": "ad175bd8",
   "metadata": {},
   "source": [
    "#### Q.8. Explain the mutable and immutable data types with proper explanation & examples.\n",
    "\n",
    "Mutatable data types are those data structures which can change their elements after creation ie. we can modify, add, or remove elements from it.\n",
    "\n",
    "On the other hand immutable data types are those data structures whose elements cannot be changed once they are created.\n",
    "\n",
    "Different mutable data types in Python are:\n",
    "1) List\n",
    "2) Set\n",
    "3) Dictionary\n",
    "\n",
    "Immutabel data types in python are:\n",
    "1) Tuple\n",
    "\n",
    "List:  \n",
    "We can perform following operations on list  \n",
    "\n",
    "prem=[1,2,3,4,5,6,7,8,9]  \n",
    "\n",
    "adding --> prem.append(18)  \n",
    "modifying --> prem[1]=90  \n",
    "removing --> prem.pop()  \n",
    "\n",
    "Sets:  \n",
    "We can perform following operations on set  \n",
    "\n",
    "new_set={1,2,3,4,5,7,8,9,10}  \n",
    "\n",
    "add --> new_set.add(89)  \n",
    "remove --> new_set.remove(55)  \n",
    "\n",
    "\n",
    "Dictionary:  \n",
    "We can perform following operations on dictionary   \n",
    "\n",
    "new_dict = {\"name\": \"Prem\", \"age\": 21}\n",
    "\n",
    "modify --> new_dict[\"age\"] = 18    \n",
    "add new key value pair --> new_dict[\"city\"] = \"Mumbai\"    \n",
    "delete the dictionary --> del new_dict[\"name\"]  \n",
    "\n",
    "\n",
    "Tuple:\n",
    "We cannot perform above operations on the tuple as it will result into error.\n",
    "\n"
   ]
  },
  {
   "attachments": {
    "Screenshot%202023-09-17%20000951.png": {
     "image/png": "[encoded data removed]"
    }
   },
   "cell_type": "markdown",
   "id": "7cd27101",
   "metadata": {},
   "source": [
    "#### Q.9. Write a code to create the given structure using only for loop.\n",
    "![Screenshot%202023-09-17%20000951.png](attachment:Screenshot%202023-09-17%20000951.png)"
   ]
  },
  {
   "cell_type": "code",
   "execution_count": 3,
   "id": "fcd64845",
   "metadata": {},
   "outputs": [
    {
     "name": "stdout",
     "output_type": "stream",
     "text": [
      "    *\n",
      "   ***\n",
      "  *****\n",
      " *******\n",
      "*********\n"
     ]
    }
   ],
   "source": [
    "n=5\n",
    "\n",
    "for i in range(1, n + 1):\n",
    "    for j in range(n, i, -1):\n",
    "        print(\" \", end=\"\")\n",
    "    for k in range(1, 2 * i):\n",
    "        print(\"*\", end=\"\")\n",
    "        \n",
    "    print()"
   ]
  },
  {
   "attachments": {
    "Screenshot%202023-09-17%20000956.png": {
     "image/png": "[encoded data removed]"
    }
   },
   "cell_type": "markdown",
   "id": "5c8e29c4",
   "metadata": {},
   "source": [
    "#### Q.10. Write a code to create the given structure using while loop.\n",
    "![Screenshot%202023-09-17%20000956.png](attachment:Screenshot%202023-09-17%20000956.png)"
   ]
  },
  {
   "cell_type": "code",
   "execution_count": 4,
   "id": "a4eff6e0",
   "metadata": {},
   "outputs": [
    {
     "name": "stdout",
     "output_type": "stream",
     "text": [
      "|||||||||\n",
      " |||||||\n",
      "  |||||\n",
      "   |||\n",
      "    |\n"
     ]
    }
   ],
   "source": [
    "n=5\n",
    "for i in range(n, 0, -1):\n",
    "    for j in range(n, i, -1):\n",
    "        print(\" \", end=\"\")\n",
    "        \n",
    "        \n",
    "    for k in range(1, 2 * i):\n",
    "        print(\"|\", end=\"\")\n",
    "        \n",
    "    print()"
   ]
  },
  {
   "cell_type": "code",
   "execution_count": null,
   "id": "fb5d7bb9",
   "metadata": {},
   "outputs": [],
   "source": []
  }
 ],
 "metadata": {
  "kernelspec": {
   "display_name": "Python 3 (ipykernel)",
   "language": "python",
   "name": "python3"
  },
  "language_info": {
   "codemirror_mode": {
    "name": "ipython",
    "version": 3
   },
   "file_extension": ".py",
   "mimetype": "text/x-python",
   "name": "python",
   "nbconvert_exporter": "python",
   "pygments_lexer": "ipython3",
   "version": "3.9.13"
  }
 },
 "nbformat": 4,
 "nbformat_minor": 5
}
