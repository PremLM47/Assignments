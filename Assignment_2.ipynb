{
 "cells": [
  {
   "cell_type": "markdown",
   "id": "92ca99d8",
   "metadata": {},
   "source": [
    "## Assignment 2"
   ]
  },
  {
   "cell_type": "markdown",
   "id": "6366f585",
   "metadata": {},
   "source": [
    "#### 1.What are the two values of the Boolean data type? How do you write them?\n",
    "\n",
    "True  \n",
    "False  \n"
   ]
  },
  {
   "cell_type": "markdown",
   "id": "7285cdbb",
   "metadata": {},
   "source": [
    "#### 2.What are the three different types of Boolean operators?\n",
    "\n",
    "The three different types of Boolean operators are:  \n",
    "and – this operator results in true when all the condition is satisfied, if any one of the condition is not satisfied it gives \n",
    "false\n",
    "\n",
    "or – this operator results in true when any one of the condition is satisfied if all the condition do not satisfy it   \n",
    "gives false value.\n",
    "\n",
    "not – this operator just inverts the result true becomes false and vice versa  \n",
    "\n",
    "eg  \n",
    "a=5  \n",
    "b=10  \n",
    "print(a>4 and b>5)  \n",
    "o/p True  \n",
    "\n",
    "print(a>4 or b<5)  \n",
    "o/p True  \n",
    "\n",
    "print(not(a>4 and b>5))  \n",
    "o/p False  \n"
   ]
  },
  {
   "cell_type": "markdown",
   "id": "ba775b29",
   "metadata": {},
   "source": [
    "#### 3.Make a list of each Boolean operator's truth tables (i.e. every possible combination of Boolean values for the operator and what it evaluate)\n",
    "\n",
    "and  \n",
    "0\t0\t&emsp;0  \n",
    "0\t1 \t&emsp;0  \n",
    "1\t0\t&emsp;0  \n",
    "1\t1\t&emsp;1  \n",
    "\n",
    "or  \n",
    "0\t0\t&emsp;0   \n",
    "0\t1 \t&emsp;1  \n",
    "1\t0\t&emsp;1  \n",
    "1\t1\t&emsp;1  \n",
    "\n",
    "not  \n",
    "0 &emsp;1  \n",
    "1 &emsp;0  \n"
   ]
  },
  {
   "cell_type": "markdown",
   "id": "ed7b86c1",
   "metadata": {},
   "source": [
    "#### 4.What are the values of the following expressions?\n",
    "\n",
    "(5 > 4) and (3 == 5)  --> False  \n",
    "\n",
    "not (5 > 4) --> False  \n",
    "\n",
    "(5 > 4) or (3 == 5) --> True  \n",
    "\n",
    "not ((5 > 4) or (3 == 5))  --> False  \n",
    "\n",
    "(True and True) and (True == False) --> False  \n",
    "\n",
    "(not False) or (not True) --> True  \n"
   ]
  },
  {
   "cell_type": "markdown",
   "id": "a2e9ca51",
   "metadata": {},
   "source": [
    "#### 5.What are the six comparison operators?\n",
    "\n",
    "== --> Equal to \n",
    "\n",
    "!= --> Not Equal to  \n",
    "\n",
    "\">=\"  --> Greater than\n",
    "\n",
    "<= --> less than\n",
    "\n",
    "<= --> Less than equal to\n",
    "    \n",
    "\">=\" --> Greater than equal to\n"
   ]
  },
  {
   "cell_type": "markdown",
   "id": "4cb982cf",
   "metadata": {},
   "source": [
    "#### 6.How do you tell the difference between the equal to and assignment operators?   \n",
    "\n",
    "Describe a condition and when you would use one.  \n",
    "\n",
    "\n",
    "Equal to (==)  \n",
    "The equal to operator is used for comparison and checks whether two values are equal or not.  \n",
    "It returns a Boolean value based on whether the comparison is true or false.  \n",
    "\n",
    "Eg.  \n",
    "A=10  \n",
    "if A == 10: # checking if the value of A is equal to the value of 10  \n",
    "\t&emsp;print(“Both are same”)  \n",
    "    \n",
    "    \n",
    "Assignment (=)  \n",
    "The assignment operator is used to assign a value to a variable.  \n",
    "The value on the right side is stored in the variable on the left side.  \n",
    "\n",
    "Eg.  \n",
    "A=10  # assigning the values 10 and 20 to A and B variables respectively  \n",
    "B=20  \n",
    "Print(A)  \n",
    "Print(B)  \n",
    "\n"
   ]
  },
  {
   "cell_type": "markdown",
   "id": "76058ea9",
   "metadata": {},
   "source": [
    "#### 7.Identify the three blocks in this code:  \n",
    "    \n",
    "1st  block  \n",
    "spam = 0  \n",
    "if spam == 10:  \n",
    "&emsp;print('eggs')  \n",
    "\n",
    "2nd block  \n",
    "if spam > 5:  \n",
    "&emsp;print('bacon')  \n",
    "else:  \n",
    "&emsp;print('ham')  \n",
    "\n",
    "3rd block  \n",
    "print('spam')  \n",
    "print('spam')  \n"
   ]
  },
  {
   "cell_type": "markdown",
   "id": "af9bc820",
   "metadata": {},
   "source": [
    "#### 8.Write code that prints Hello if 1 is stored in spam, prints Howdy if 2 is stored in spam,  \n",
    "and prints Greetings! if anything else is stored in spam.\n",
    "  \n",
    "spam = int(input(\"Enter any value for spam\"))  \n",
    "if (spam == 1):  \n",
    "     &emsp; print(\"Hello\")  \n",
    "elif spam ==2:  \n",
    "\t  &emsp;print(\"Howdy\")  \n",
    "else:  \n",
    "\t  &emsp;print(\"Greetings!\")  \n"
   ]
  },
  {
   "cell_type": "markdown",
   "id": "848496d2",
   "metadata": {},
   "source": [
    "#### 9.If your programme is stuck in an endless loop, what keys you’ll press?\n",
    "\n",
    "An infinite loop can be terminated by using the keys Ctrl + C\n"
   ]
  },
  {
   "cell_type": "markdown",
   "id": "423b96cb",
   "metadata": {},
   "source": [
    "#### 10.How can you tell the difference between break and continue?  \n",
    "\n",
    "The difference between break and continue are in following ways:  \n",
    "When break is found it terminates the loop and jumps to the first statement   \n",
    "after the loop whereas when continue is found it skips the current iteration   \n",
    "of the loop and jumps to the next iteration.   \n",
    "Both break and continue are executed based on some previous conditions.  \n",
    "\n",
    "\n",
    "Break  \n",
    "for i in range(10):  \n",
    "    &emsp;if i == 4:  \n",
    "        &emsp;&emsp;break   # when the value of i becomes 4 then the break gets triggered and go to the next line after the loop  \n",
    "    &emsp;print(i)  \n",
    "\n",
    "Continue  \n",
    "for i in range(10):  \n",
    "    &emsp;if i == 4:  \n",
    "        &emsp;&emsp;continue # when the value of i becomes 4 then the continue gets triggered and skips the current loop and starts the next iteration  \n",
    "    &emsp;print(i)  \n"
   ]
  },
  {
   "cell_type": "markdown",
   "id": "88b8154d",
   "metadata": {},
   "source": [
    "#### 11.In a for loop, what is the difference between range(10), range(0, 10), and range(0, 10, 1)?\n",
    "\n",
    "There is no difference between all the three, all of them results a sequence of 0 – 9 integers incrementing them by 1\n",
    "\n",
    "&emsp;0  \n",
    "&emsp;1  \n",
    "&emsp;2  \n",
    "&emsp;3  \n",
    "&emsp;4  \n",
    "&emsp;5  \n",
    "&emsp;6  \n",
    "&emsp;7  \n",
    "&emsp;8  \n",
    "&emsp;9  \n"
   ]
  },
  {
   "cell_type": "markdown",
   "id": "719b2813",
   "metadata": {},
   "source": [
    "#### 12.Write a short program that prints the numbers 1 to 10 using a for loop.  \n",
    "Then write an equivalent program that prints the numbers 1 to 10 using a while loop.  \n",
    "\n",
    "Using for  \n",
    "for i in range(0,10):   \n",
    "    &emsp;print(i)  \n",
    "\n",
    "Using while  \n",
    "i=1  \n",
    "while i<=10:  \n",
    "    &emsp;print(i)  \n",
    "    &emsp;i+=1  \n"
   ]
  },
  {
   "cell_type": "markdown",
   "id": "3355d918",
   "metadata": {},
   "source": [
    "#### 13.If you had a function named bacon() inside a module named spam, how would you call it after importing spam?  \n",
    "\n",
    "We can perform the operation in following 2 ways:  \n",
    "    \n",
    "import spam  \n",
    "spam.bacon()  \n",
    "\n",
    "from spam import bacon  \n",
    "bacon()  \n"
   ]
  },
  {
   "cell_type": "code",
   "execution_count": null,
   "id": "c6a13587",
   "metadata": {},
   "outputs": [],
   "source": []
  }
 ],
 "metadata": {
  "kernelspec": {
   "display_name": "Python 3 (ipykernel)",
   "language": "python",
   "name": "python3"
  },
  "language_info": {
   "codemirror_mode": {
    "name": "ipython",
    "version": 3
   },
   "file_extension": ".py",
   "mimetype": "text/x-python",
   "name": "python",
   "nbconvert_exporter": "python",
   "pygments_lexer": "ipython3",
   "version": "3.9.13"
  }
 },
 "nbformat": 4,
 "nbformat_minor": 5
}
