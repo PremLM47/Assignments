{
 "cells": [
  {
   "cell_type": "markdown",
   "id": "44399b6c",
   "metadata": {},
   "source": [
    "## Assignment 7"
   ]
  },
  {
   "cell_type": "markdown",
   "id": "84539f88",
   "metadata": {},
   "source": [
    "#### Q.1. Create two int type variables, apply addition, subtraction, division and multiplications and store the results in variables. Then print the data in the following format by calling the variables:\n"
   ]
  },
  {
   "cell_type": "code",
   "execution_count": 1,
   "id": "9fd70da3",
   "metadata": {},
   "outputs": [
    {
     "name": "stdout",
     "output_type": "stream",
     "text": [
      "Enter the value of A 10\n",
      "Enter the value of B 5\n"
     ]
    }
   ],
   "source": [
    "a=int(input(\"Enter the value of A \"))\n",
    "b=int(input(\"Enter the value of B \"))"
   ]
  },
  {
   "cell_type": "code",
   "execution_count": 2,
   "id": "1f43c253",
   "metadata": {},
   "outputs": [
    {
     "name": "stdout",
     "output_type": "stream",
     "text": [
      "First variable is 10 & second variable is 5.\n",
      "Addition 10 + 5 = 15\n",
      "Subtraction 10 - 5 = 5\n",
      "Multiplication 10 * 5 = 50\n",
      "Division 10 / 5 = 2.0\n"
     ]
    }
   ],
   "source": [
    "print(f\"First variable is {a} & second variable is {b}.\")\n",
    "print(f\"Addition {a} + {b} = {a+b}\")\n",
    "print(f\"Subtraction {a} - {b} = {a-b}\")\n",
    "print(f\"Multiplication {a} * {b} = {a*b}\")\n",
    "print(f\"Division {a} / {b} = {a/b}\")"
   ]
  },
  {
   "cell_type": "markdown",
   "id": "13dd90fe",
   "metadata": {},
   "source": [
    "#### Q.2. What is the difference between the following operators:"
   ]
  },
  {
   "cell_type": "markdown",
   "id": "73643cf1",
   "metadata": {},
   "source": [
    "#### (i) ‘/’ & ‘//’\n",
    "\n",
    "The first operation (/) is of division, which gives us floating point values.  \n",
    "The second operation (//) is of floor division, which rounds of the result to nearest whole decimal value and does not give result as a floating point value.\n",
    "\n",
    "Eg. \n",
    "\n",
    "7/5 = 1.4\n",
    "\n",
    "7//5 = 1\n"
   ]
  },
  {
   "cell_type": "markdown",
   "id": "c764c9d3",
   "metadata": {},
   "source": [
    "#### (ii) '**' & '^'\n",
    "\n",
    "The first operations ** is of exponentiation, which is used for calculating the power of the numbers.  \n",
    "The second operation (^) is of bitwise XOR operation, sets the output 1 if anyone of the bits is 1.\n",
    "\n",
    "Eg.\n",
    "\n",
    "7**3 = 343\n",
    "\n",
    "7^3 = 4  \n",
    "\n",
    "7--> 0111  \n",
    "3--> 0011   \n",
    "4--> 0100"
   ]
  },
  {
   "cell_type": "markdown",
   "id": "baf7aac3",
   "metadata": {},
   "source": [
    "#### Q.3. List the logical operators.\n",
    "\n",
    "There are three logical operators:  \n",
    "1) and - it returns true if both the conditions are true.  \n",
    "2) or - it returns true if any one of the condition is true.  \n",
    "3) not - it alters the state of the result. Returns False if the result is True.  \n"
   ]
  },
  {
   "cell_type": "code",
   "execution_count": 3,
   "id": "1081c3e9",
   "metadata": {},
   "outputs": [
    {
     "name": "stdout",
     "output_type": "stream",
     "text": [
      "True\n",
      "True\n",
      "False\n"
     ]
    }
   ],
   "source": [
    "# Example\n",
    "\n",
    "print(5<6 and 7<10)\n",
    "print(12<1 or 5<6)\n",
    "print(not(5<6 and 7<10))"
   ]
  },
  {
   "cell_type": "markdown",
   "id": "e32eda10",
   "metadata": {},
   "source": [
    "#### Q.4. Explain right shift operator and left shift operator with examples.\n",
    "\n",
    "The left shift operator is denoted by (<<) it adds extra number of zeros from the right side and shift the digits to the left side.  \n",
    "The right shift operator is denoted by (>>) it adds extra number of zeros from the left side and shift the digits to the right side."
   ]
  },
  {
   "cell_type": "code",
   "execution_count": 4,
   "id": "6d7fa31a",
   "metadata": {},
   "outputs": [
    {
     "name": "stdout",
     "output_type": "stream",
     "text": [
      "40\n",
      "2\n"
     ]
    }
   ],
   "source": [
    "# Example\n",
    "# 2 ---- 000010\n",
    "# 10 --- 001010\n",
    "# 40 --- 101000\n",
    "\n",
    "print(10<<2)\n",
    "print(10>>2)\n"
   ]
  },
  {
   "cell_type": "markdown",
   "id": "24588ced",
   "metadata": {},
   "source": [
    "#### Q.5. Create a list containing int type data of length 15. Then write a code to check if 10 is present in the list or not."
   ]
  },
  {
   "cell_type": "code",
   "execution_count": 5,
   "id": "8228237d",
   "metadata": {},
   "outputs": [
    {
     "name": "stdout",
     "output_type": "stream",
     "text": [
      "True\n"
     ]
    }
   ],
   "source": [
    "l1=[1,2,3,4,5,6,7,8,9,10,11,12,14,16,19]\n",
    "\n",
    "if 10 in l1:\n",
    "    print(True)"
   ]
  },
  {
   "cell_type": "code",
   "execution_count": null,
   "id": "08c07a15",
   "metadata": {},
   "outputs": [],
   "source": []
  }
 ],
 "metadata": {
  "kernelspec": {
   "display_name": "Python 3 (ipykernel)",
   "language": "python",
   "name": "python3"
  },
  "language_info": {
   "codemirror_mode": {
    "name": "ipython",
    "version": 3
   },
   "file_extension": ".py",
   "mimetype": "text/x-python",
   "name": "python",
   "nbconvert_exporter": "python",
   "pygments_lexer": "ipython3",
   "version": "3.9.13"
  }
 },
 "nbformat": 4,
 "nbformat_minor": 5
}
